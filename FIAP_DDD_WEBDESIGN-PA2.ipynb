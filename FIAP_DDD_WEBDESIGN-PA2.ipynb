{
  "cells": [
    {
      "cell_type": "markdown",
      "metadata": {
        "id": "wJdl4sBG0LH3"
      },
      "source": [
        "# FIAP\n",
        "## WEB DESIGN\n",
        "### DDD - Python\n",
        "\n",
        "Objetivos da aula de hoje:\n",
        "\n",
        "- for loop\n",
        "- if\n",
        "- def - função\n",
        "- criar arquivo texto\n",
        "- ler arquivo text\n",
        "- lista (estrutura de dados)\n",
        "\n",
        "Tipos de arquivos que são texto:\n",
        "- .txt\n",
        "- .csv\n",
        "- .tsv\n",
        "- .xml\n",
        "- .json\n",
        "- .pdf\n",
        "- .docx (XML zip)"
      ]
    },
    {
      "cell_type": "markdown",
      "metadata": {},
      "source": [
        "Referências:\n",
        "\n",
        "- https://penseallen.github.io/PensePython2e/\n",
        "- https://projecteuler.net/\n",
        "- https://books.goalkicker.com/PythonBook/\n",
        "- https://docs.python.org/pt-br/3/tutorial/index.html\n",
        "- https://perso.limsi.fr/pointal/_media/python:cours:mementopython3-english.pdf"
      ]
    },
    {
      "cell_type": "markdown",
      "metadata": {},
      "source": []
    }
  ],
  "metadata": {
    "colab": {
      "provenance": []
    },
    "kernelspec": {
      "display_name": "Python 3",
      "name": "python3"
    },
    "language_info": {
      "name": "python"
    }
  },
  "nbformat": 4,
  "nbformat_minor": 0
}
