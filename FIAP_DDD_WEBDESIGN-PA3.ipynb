{
  "cells": [
    {
      "cell_type": "markdown",
      "metadata": {
        "id": "wJdl4sBG0LH3"
      },
      "source": [
        "# FIAP\n",
        "## WEB DESIGN\n",
        "### DDD - Python\n",
        "\n",
        "Objetivos da aula de hoje:\n",
        "\n",
        "- Ler arquivo texto\n",
        "- Processar CSV\n",
        "- Gerar gráfcos com matplotlib\n",
        "  - No jupyter notebook - .ipynb\n",
        "  - No script Python - .py\n",
        "- Estrutura de dados lista e dicionário (dict)\n",
        "- Processamento de listas\n",
        "- Processamento de dicionário\n",
        "- Cálculos com loops\n",
        "- Usar input para carregar dados em lista\n",
        "- Criar editor de texto com input\n",
        "\n",
        "Listas são vetores\n",
        "Listas de listas são matrizes\n",
        "\n",
        "Tipos de arquivos que são texto:\n",
        "- .txt\n",
        "- .csv\n",
        "- .tsv\n",
        "- .xml\n",
        "- .json\n",
        "- .pdf\n",
        "- .docx (XML zip)\n",
        "\n",
        "Dica: Layout do arquivo CSV de diabetes\n",
        "\n",
        "The Sklearn Diabetes Dataset include following attributes:\n",
        "\n",
        "- age: Age in years\n",
        "- sex: Gender of the patient\n",
        "- bmi: Body mass index\n",
        "- bp: Average blood pressure\n",
        "- s1: Total serum cholesterol (tc)\n",
        "- s2: Low-density lipoproteins (ldl)\n",
        "- s3: High-density lipoproteins (hdl)\n",
        "- s4: Total cholesterol / HDL (tch)\n",
        "- s5: Possibly log of serum triglycerides level (ltg)\n",
        "- s6: Blood sugar level (glu)"
      ]
    },
    {
      "cell_type": "code",
      "execution_count": null,
      "metadata": {},
      "outputs": [],
      "source": [
        "lst1=\"a,b,c,d\"\n",
        "\n",
        "lst1 = lst1.split(\",\")\n",
        "\n",
        "lst1"
      ]
    },
    {
      "cell_type": "markdown",
      "metadata": {},
      "source": [
        "Referências:\n",
        "\n",
        "- https://penseallen.github.io/PensePython2e/\n",
        "- https://projecteuler.net/\n",
        "- https://books.goalkicker.com/PythonBook/\n",
        "- https://docs.python.org/pt-br/3/tutorial/index.html\n",
        "- https://perso.limsi.fr/pointal/_media/python:cours:mementopython3-english.pdf\n",
        "- https://matplotlib.org/stable/"
      ]
    },
    {
      "cell_type": "markdown",
      "metadata": {},
      "source": []
    }
  ],
  "metadata": {
    "colab": {
      "provenance": []
    },
    "kernelspec": {
      "display_name": "Python 3",
      "name": "python3"
    },
    "language_info": {
      "name": "python",
      "version": "3.10.12"
    }
  },
  "nbformat": 4,
  "nbformat_minor": 0
}
