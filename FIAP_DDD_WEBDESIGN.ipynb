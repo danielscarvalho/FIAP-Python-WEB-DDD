{
  "cells": [
    {
      "cell_type": "markdown",
      "metadata": {
        "id": "wJdl4sBG0LH3"
      },
      "source": [
        "# FIAP\n",
        "## WEB DESIGN\n",
        "### DDD - Python\n",
        "\n",
        "Abientes que rodam Python:\n",
        "\n",
        "- Console, mode interativo, python ou python3\n",
        "  - python fib.py\n",
        "- Console, modo inline, python -c \"print(33*2/4)\"\n",
        "- Console online no site do Python www.python.org\n",
        "- Google Colab - Ambiente notebook para ciências dos dados\n",
        "- No VSCode como script, arquivo texto .py\n",
        "- Python Anywhare - www.pythonanywhare.com\n",
        "  - Conosole - Terminal do Linux e do Python\n",
        "  - Agendar execução de programa/script Python\n",
        "  - Publicar WEB API com Flasks\n",
        "  - Banco de Dados MySQL (SQL)\n"
      ]
    },
    {
      "cell_type": "code",
      "execution_count": 1,
      "metadata": {
        "colab": {
          "base_uri": "https://localhost:8080/"
        },
        "id": "P9PJXUWnzxAc",
        "outputId": "5d995e25-fa43-4e9d-ded7-e2cce8ceba7e"
      },
      "outputs": [
        {
          "data": {
            "text/plain": [
              "377"
            ]
          },
          "execution_count": 1,
          "metadata": {},
          "output_type": "execute_result"
        }
      ],
      "source": [
        "344+33"
      ]
    },
    {
      "cell_type": "code",
      "execution_count": 2,
      "metadata": {
        "colab": {
          "base_uri": "https://localhost:8080/"
        },
        "id": "amkiZ7b1zzxy",
        "outputId": "176192f6-aae8-4e54-c85f-e9ad7f5d778e"
      },
      "outputs": [
        {
          "data": {
            "text/plain": [
              "0.9950041652780258"
            ]
          },
          "execution_count": 2,
          "metadata": {},
          "output_type": "execute_result"
        }
      ],
      "source": [
        "import math\n",
        "\n",
        "math.cos(.1)"
      ]
    },
    {
      "cell_type": "code",
      "execution_count": 3,
      "metadata": {
        "colab": {
          "base_uri": "https://localhost:8080/"
        },
        "id": "wjDOzfZm1PE4",
        "outputId": "24e466ec-f130-4a84-c6ce-66fe7e3dc736"
      },
      "outputs": [
        {
          "data": {
            "text/plain": [
              "1512.5"
            ]
          },
          "execution_count": 3,
          "metadata": {},
          "output_type": "execute_result"
        }
      ],
      "source": [
        "(55**2) / 2"
      ]
    },
    {
      "cell_type": "code",
      "execution_count": null,
      "metadata": {
        "colab": {
          "base_uri": "https://localhost:8080/"
        },
        "id": "XKL93I9I1ScO",
        "outputId": "967b0c6e-0522-4d72-bc0e-f6cda4d1c21f"
      },
      "outputs": [
        {
          "name": "stdout",
          "output_type": "stream",
          "text": [
            "0 1 1 2 3 5 8 13 21 34 55 89 144 233 377 610 987 \n"
          ]
        }
      ],
      "source": [
        "# Fibonacci\n",
        "def fib(n):\n",
        "    a, b = 0, 1\n",
        "    while a < n:\n",
        "       print(a, end=' ')\n",
        "       a, b = b, a+b\n",
        "    print()\n",
        "\n",
        "fib(1000)"
      ]
    },
    {
      "cell_type": "markdown",
      "metadata": {},
      "source": [
        "Vai Corinthians!!!"
      ]
    },
    {
      "cell_type": "code",
      "execution_count": null,
      "metadata": {},
      "outputs": [],
      "source": []
    }
  ],
  "metadata": {
    "colab": {
      "provenance": []
    },
    "kernelspec": {
      "display_name": "Python 3",
      "name": "python3"
    },
    "language_info": {
      "name": "python"
    }
  },
  "nbformat": 4,
  "nbformat_minor": 0
}
