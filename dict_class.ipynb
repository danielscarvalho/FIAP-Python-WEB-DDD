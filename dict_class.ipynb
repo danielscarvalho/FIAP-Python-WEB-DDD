{
 "cells": [
  {
   "cell_type": "markdown",
   "metadata": {},
   "source": []
  },
  {
   "cell_type": "markdown",
   "metadata": {},
   "source": [
    "# FIAP\n",
    "## WEB DESIGN\n",
    "### DDD - Python\n",
    "\n",
    "Agora o bicho vai pegar!!\n",
    "\n",
    "- Aula\n",
    "\n",
    "1. import - como importar bibliotecas\n",
    "1. Instalar LIB externa com **pip3**\n",
    "2. LIB statistics padrão do Python\n",
    "3. Criar LIB arquivo .py com as funções (def)\n",
    "4. Estruturas de dados:\n",
    "   - Lista\n",
    "   - Tupla\n",
    "   - String (Texto)\n",
    "   - Dicionário (dict, JSON)\n",
    "5. Requests para consumir WEB API JSON\n",
    "    - CEP WEB API\n",
    "    - CAT FACTS WEB API "
   ]
  },
  {
   "cell_type": "markdown",
   "metadata": {},
   "source": []
  },
  {
   "cell_type": "code",
   "execution_count": null,
   "metadata": {},
   "outputs": [
    {
     "ename": "",
     "evalue": "",
     "output_type": "error",
     "traceback": [
      "\u001b[1;31mA execução de células com 'Python 3.10.12' requer o pacote ipykernel.\n",
      "\u001b[1;31mExecute o seguinte comando para instalar \"ipykernel\" no ambiente do Python. \n",
      "\u001b[1;31mComando: \"/usr/bin/python3 -m pip install ipykernel -U --user --force-reinstall\""
     ]
    }
   ],
   "source": [
    "import fiaplib"
   ]
  },
  {
   "cell_type": "code",
   "execution_count": null,
   "metadata": {},
   "outputs": [],
   "source": [
    "fiaplib.último(\"E ai mano\")"
   ]
  },
  {
   "cell_type": "code",
   "execution_count": null,
   "metadata": {},
   "outputs": [],
   "source": [
    "fiaplib.estatística([30,20,20,40])"
   ]
  },
  {
   "cell_type": "markdown",
   "metadata": {},
   "source": []
  }
 ],
 "metadata": {
  "kernelspec": {
   "display_name": "Python 3",
   "language": "python",
   "name": "python3"
  },
  "language_info": {
   "name": "python",
   "version": "3.10.12"
  }
 },
 "nbformat": 4,
 "nbformat_minor": 2
}
