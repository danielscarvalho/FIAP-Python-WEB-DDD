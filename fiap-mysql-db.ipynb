{
 "cells": [
  {
   "cell_type": "markdown",
   "metadata": {},
   "source": [
    "# FIAP\n",
    "## WEB Design\n",
    "### Data Driven Design - Python"
   ]
  },
  {
   "cell_type": "markdown",
   "metadata": {},
   "source": [
    "Instalação do driver do banco de dados MySQL para Python\n",
    "\n",
    "E teste de conexão...\n",
    "\n",
    "Não colocar senhas e usuários hardcoded no código.<br>\n",
    "Utilizar key management tools (keyring) ou armazenar nas variáveis de ambiente."
   ]
  },
  {
   "cell_type": "markdown",
   "metadata": {},
   "source": [
    "Instalação do driver do MySQL para Python"
   ]
  },
  {
   "cell_type": "code",
   "execution_count": 4,
   "metadata": {
    "scrolled": true
   },
   "outputs": [
    {
     "name": "stdout",
     "output_type": "stream",
     "text": [
      "Collecting mysql-connector-python\n",
      "  Obtaining dependency information for mysql-connector-python from https://files.pythonhosted.org/packages/60/53/7468007a8f9d5b1f251b50039969a600e84114934d1369d6f7090e24369d/mysql_connector_python-9.0.0-cp311-cp311-manylinux_2_17_x86_64.whl.metadata\n",
      "  Downloading mysql_connector_python-9.0.0-cp311-cp311-manylinux_2_17_x86_64.whl.metadata (2.0 kB)\n",
      "Downloading mysql_connector_python-9.0.0-cp311-cp311-manylinux_2_17_x86_64.whl (19.3 MB)\n",
      "\u001b[2K   \u001b[38;2;114;156;31m━━━━━━━━━━━━━━━━━━━━━━━━━━━━━━━━━━━━━━━━\u001b[0m \u001b[32m19.3/19.3 MB\u001b[0m \u001b[31m4.9 MB/s\u001b[0m eta \u001b[36m0:00:00\u001b[0mm eta \u001b[36m0:00:01\u001b[0m[36m0:00:01\u001b[0m\n",
      "\u001b[?25hInstalling collected packages: mysql-connector-python\n",
      "Successfully installed mysql-connector-python-9.0.0\n"
     ]
    }
   ],
   "source": [
    "!pip3 install mysql-connector-python"
   ]
  },
  {
   "cell_type": "markdown",
   "metadata": {},
   "source": [
    "Não use senhas simples!!\n",
    "\n",
    "Hint: https://randompasswordgenerator.com/"
   ]
  },
  {
   "cell_type": "markdown",
   "metadata": {},
   "source": [
    "Com o MySQL (mysqld) servidor instalado...\n",
    "\n",
    "```bash\n",
    "sudo mysql\n",
    "```\n",
    "\n",
    "No prompt do MySQL \">>>\"\n",
    "\n",
    "```sql\n",
    "create user scott;\n",
    "alter user scott identified by \"GkLhcty7HBN6vu8S\";\n",
    "flush privileges;\n",
    "\n",
    "create database datascience;\n",
    "use datascience;\n",
    "GRANT ALL PRIVILEGES ON datascience TO 'scott'@'%';\n",
    "\n",
    "create database fiap;\n",
    "use fiap;\n",
    "GRANT ALL PRIVILEGES ON fiap TO 'scott'@'%';\n",
    "\n",
    "```"
   ]
  },
  {
   "cell_type": "markdown",
   "metadata": {},
   "source": [
    "Testar conexão..."
   ]
  },
  {
   "cell_type": "code",
   "execution_count": 22,
   "metadata": {},
   "outputs": [
    {
     "name": "stdout",
     "output_type": "stream",
     "text": [
      "Successfully connected to database (RDBMS)\n",
      "(datetime.datetime(2024, 9, 11, 20, 32, 38), '8.0.39-0ubuntu0.24.04.2', 'scott@localhost')\n"
     ]
    }
   ],
   "source": [
    "import mysql.connector\n",
    "import os\n",
    "\n",
    "#db_user = os.environ.get('FIAP_MYSQL_USER')\n",
    "#db_key = os.environ.get('FIAP_MYSQL_PWD')\n",
    "\n",
    "db_user='scott'\n",
    "db_key=\"GkLhcty7HBN6vu8S\"\n",
    "\n",
    "connection = mysql.connector.connect(\n",
    "    user=db_user,\n",
    "    password=db_key,\n",
    "    host=\"localhost\")\n",
    "\n",
    "print(\"Successfully connected to database (RDBMS)\")\n",
    "\n",
    "cursor = connection.cursor()\n",
    "\n",
    "cursor.execute('select now(), version(), user()')\n",
    "\n",
    "result_set = cursor.fetchall()\n",
    "\n",
    "for record in result_set:\n",
    "  print(record)\n",
    "\n",
    "connection.close()        "
   ]
  },
  {
   "cell_type": "markdown",
   "metadata": {},
   "source": [
    "Referências:\n",
    "\n",
    "Para estudar MySQL, SQL e Python:\n",
    "\n",
    "- https://edtechbooks.org/learning_mysql\n",
    "- https://dev.mysql.com/doc/\n",
    "- https://www.mysql.com/products/workbench/\n",
    "- https://www.w3schools.com/python/python_mysql_getstarted.asp\n",
    "- https://www.w3schools.com/MySQL/default.asp\n",
    "- https://www.digitalocean.com/community/tutorials/how-to-install-mysql-on-ubuntu-20-04\n",
    "- https://books.goalkicker.com/MySQLBook/\n",
    "- https://dev.mysql.com/doc/connector-python/en/\n",
    "- https://books.goalkicker.com/SQLBook/\n",
    "- https://riptutorial.com/ebook/mysql\n",
    "- http://160592857366.free.fr/joe/ebooks/ShareData/Learning%20MySQL.pdf"
   ]
  },
  {
   "cell_type": "code",
   "execution_count": null,
   "metadata": {},
   "outputs": [],
   "source": []
  }
 ],
 "metadata": {
  "kernelspec": {
   "display_name": "Python 3 (ipykernel)",
   "language": "python",
   "name": "python3"
  },
  "language_info": {
   "codemirror_mode": {
    "name": "ipython",
    "version": 3
   },
   "file_extension": ".py",
   "mimetype": "text/x-python",
   "name": "python",
   "nbconvert_exporter": "python",
   "pygments_lexer": "ipython3",
   "version": "3.11.5"
  }
 },
 "nbformat": 4,
 "nbformat_minor": 4
}
