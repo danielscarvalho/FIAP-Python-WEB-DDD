{
 "cells": [
  {
   "cell_type": "markdown",
   "metadata": {},
   "source": [
    "# FIAP\n",
    "## WEB Design\n",
    "### Data Driven Design - Python"
   ]
  },
  {
   "cell_type": "markdown",
   "metadata": {},
   "source": [
    "Instalação do driver do banco de dados Oracle para Python\n",
    "\n",
    "Instalar SQL Developer: https://www.oracle.com/database/sqldeveloper/technologies/download/ ou<br>\n",
    "DBeaver: https://dbeaver.io/download/\n"
   ]
  },
  {
   "cell_type": "markdown",
   "metadata": {},
   "source": [
    "> Host: ORACLE.FIAP.COM.BR<br>\n",
    "> Porta: 1521<br>\n",
    "> SID: ORCL<br>\n",
    "> Usuário: rmXXXXX<br>\n",
    "> Senha: Data de nascimento com 6 dígitos"
   ]
  },
  {
   "cell_type": "code",
   "execution_count": null,
   "metadata": {},
   "outputs": [],
   "source": [
    "!pip3 install oracledb"
   ]
  },
  {
   "cell_type": "code",
   "execution_count": null,
   "metadata": {},
   "outputs": [],
   "source": [
    "import oracledb\n",
    "import os\n",
    "\n",
    "db_user = os.environ.get('FIAP_ORA')\n",
    "db_key = os.environ.get('FIAP_KEY')\n",
    "\n",
    "connection = oracledb.connect(\n",
    "    protocol='tcp',\n",
    "    sid='orcl',\n",
    "    port=1521,\n",
    "    user=db_user,\n",
    "    password=db_key,\n",
    "    config_dir=os.getcwd(),\n",
    "    host=\"oracle.fiap.com.br\",\n",
    "    dsn=\"oracle.fiap.com.br\")\n",
    "\n",
    "print(\"Successfully connected to Oracle Database\")\n",
    "\n",
    "cursor = connection.cursor()\n",
    "\n",
    "for row in cursor.execute('select sysdate now from dual'):\n",
    "    if (row[1]):\n",
    "        print(row)\n",
    "    else:\n",
    "        print(\"Ops!\")\n",
    "\n",
    "connection.close()        "
   ]
  },
  {
   "cell_type": "markdown",
   "metadata": {},
   "source": [
    "Referências:\n",
    "\n",
    "- https://www.oracle.com/database/technologies/appdev/python/quickstartpythononprem.html#linux-tab\n",
    "- https://docs.oracle.com/en/database/oracle/oracle-database/index.html"
   ]
  }
 ],
 "metadata": {
  "kernelspec": {
   "display_name": "Python 3 (ipykernel)",
   "language": "python",
   "name": "python3"
  },
  "language_info": {
   "codemirror_mode": {
    "name": "ipython",
    "version": 3
   },
   "file_extension": ".py",
   "mimetype": "text/x-python",
   "name": "python",
   "nbconvert_exporter": "python",
   "pygments_lexer": "ipython3",
   "version": "3.11.5"
  }
 },
 "nbformat": 4,
 "nbformat_minor": 4
}
